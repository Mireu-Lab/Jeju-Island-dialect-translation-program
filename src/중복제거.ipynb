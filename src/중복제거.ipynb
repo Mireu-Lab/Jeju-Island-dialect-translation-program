{
 "cells": [
  {
   "cell_type": "code",
   "execution_count": 12,
   "metadata": {},
   "outputs": [],
   "source": [
    "import pandas"
   ]
  },
  {
   "cell_type": "code",
   "execution_count": 13,
   "metadata": {},
   "outputs": [
    {
     "name": "stdout",
     "output_type": "stream",
     "text": [
      "Before change : (42298, 2)\n",
      "After change : (19840, 2)\n"
     ]
    }
   ],
   "source": [
    "File = pandas.read_csv(\"../data/csv/사투리.csv\")\n",
    "print(f\"Before change : {File.shape}\")\n",
    "\n",
    "File = File.drop_duplicates()\n",
    "print(f\"After change : {File.shape}\")\n",
    "\n",
    "File.to_csv(\"../data/csv/사투리.csv\", index=False)"
   ]
  },
  {
   "cell_type": "code",
   "execution_count": 14,
   "metadata": {},
   "outputs": [
    {
     "name": "stdout",
     "output_type": "stream",
     "text": [
      "Before change : (255900, 2)\n",
      "After change : (51930, 2)\n"
     ]
    }
   ],
   "source": [
    "File = pandas.read_csv(\"../data/csv/표준어.csv\")\n",
    "print(f\"Before change : {File.shape}\")\n",
    "\n",
    "File = File.drop_duplicates()\n",
    "print(f\"After change : {File.shape}\")\n",
    "\n",
    "File.to_csv(\"../data/csv/표준어.csv\", index=False)"
   ]
  },
  {
   "cell_type": "code",
   "execution_count": 15,
   "metadata": {},
   "outputs": [
    {
     "name": "stdout",
     "output_type": "stream",
     "text": [
      "Before change : (55177, 2)\n",
      "After change : (24209, 2)\n"
     ]
    }
   ],
   "source": [
    "File = pandas.read_csv(\"../data/csv/전체_데이터.csv\")\n",
    "print(f\"Before change : {File.shape}\")\n",
    "\n",
    "File = File.drop_duplicates()\n",
    "print(f\"After change : {File.shape}\")\n",
    "\n",
    "File.to_csv(\"../data/csv/전체_데이터.csv\", index=False)"
   ]
  }
 ],
 "metadata": {
  "kernelspec": {
   "display_name": "Python 3",
   "language": "python",
   "name": "python3"
  },
  "language_info": {
   "codemirror_mode": {
    "name": "ipython",
    "version": 3
   },
   "file_extension": ".py",
   "mimetype": "text/x-python",
   "name": "python",
   "nbconvert_exporter": "python",
   "pygments_lexer": "ipython3",
   "version": "3.12.3"
  }
 },
 "nbformat": 4,
 "nbformat_minor": 2
}
